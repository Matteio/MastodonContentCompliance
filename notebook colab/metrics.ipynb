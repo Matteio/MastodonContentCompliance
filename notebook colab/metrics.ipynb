{
  "nbformat": 4,
  "nbformat_minor": 0,
  "metadata": {
    "colab": {
      "provenance": [],
      "authorship_tag": "ABX9TyN6hr5EzqrQIHfCdxpMFBNK",
      "include_colab_link": true
    },
    "kernelspec": {
      "name": "python3",
      "display_name": "Python 3"
    },
    "language_info": {
      "name": "python"
    }
  },
  "cells": [
    {
      "cell_type": "markdown",
      "metadata": {
        "id": "view-in-github",
        "colab_type": "text"
      },
      "source": [
        "<a href=\"https://colab.research.google.com/github/NicolaGabriele/MastodonContentCompliance/blob/main/metrics.ipynb\" target=\"_parent\"><img src=\"https://colab.research.google.com/assets/colab-badge.svg\" alt=\"Open In Colab\"/></a>"
      ]
    },
    {
      "cell_type": "code",
      "source": [
        "from google.colab import drive\n",
        "drive.mount('/content/drive', force_remount = True)"
      ],
      "metadata": {
        "colab": {
          "base_uri": "https://localhost:8080/"
        },
        "id": "G7gOEcgybdFG",
        "outputId": "f61a978b-d7d1-44f1-a8d4-87b68248645b"
      },
      "execution_count": 1,
      "outputs": [
        {
          "output_type": "stream",
          "name": "stdout",
          "text": [
            "Mounted at /content/drive\n"
          ]
        }
      ]
    },
    {
      "cell_type": "code",
      "execution_count": 2,
      "metadata": {
        "id": "Wj990Fc2bMrT"
      },
      "outputs": [],
      "source": [
        "import numpy as np\n",
        "import matplotlib.pyplot as plt\n",
        "import json\n",
        "import os\n",
        "CONTEXT = \"You are a decentralized social-network instance\\'s moderator. Your role is to check if utent\\'s post respects the instance rules. You must assign each post a score from 0 (if the post violate completely the instance\\'s rules) to 10 (if the post respects all the instance\\'s rules). Your response must be only the score number and anything else.\"\n",
        "STRICT_CONTEXT = \"You are a decentralized social-network instance\\'s owner. Your role is to check if utent\\'s post respects the instance rules. In order to classify posts you have to assign each post a score from 0(if the post violate completely the instance\\'s rules) to 10(if the post respects all the instance\\'s rules). You must be very strict in your evaluations. Please pay a lot of attention and let\\'s think step by step. Your response must be only the score number and anything else.\"\n",
        "SCORES_HOME = '/content/drive/MyDrive/[Capalbo - Gabriele] Mastodon Content Compliance/data/scores'"
      ]
    },
    {
      "cell_type": "code",
      "source": [
        "def instance_mean_score(instance, instruction):\n",
        "  l = []\n",
        "  for rec in instance['records']:\n",
        "    for test in rec['tests']:\n",
        "      if test['instruction'] == instruction:\n",
        "        l.append(int(test['score']))\n",
        "  return np.mean(l)"
      ],
      "metadata": {
        "id": "aqnv6a8SdK2x"
      },
      "execution_count": 3,
      "outputs": []
    },
    {
      "cell_type": "code",
      "source": [
        "def total_mean_score(instruction):\n",
        "  means = [instance_mean_score(json.load(open(os.path.join(SCORES_HOME, instance_filename), 'r')), instruction)\n",
        "              for instance_filename in os.listdir(SCORES_HOME)]\n",
        "  return np.mean(means)"
      ],
      "metadata": {
        "id": "XRLVGxh8eFd2"
      },
      "execution_count": 4,
      "outputs": []
    },
    {
      "cell_type": "code",
      "source": [
        "'''\n",
        "distribuzione degli score cumulativa di tutte le istanze\n",
        "'''\n",
        "def plot_scores_distribution(instruction, title):\n",
        "  l = []\n",
        "  for instance_name in os.listdir(SCORES_HOME):\n",
        "    instance = json.load(open(os.path.join(SCORES_HOME, instance_name), 'r'))\n",
        "    for rec in instance['records']:\n",
        "      for test in rec['tests']:\n",
        "        if test['instruction'] == instruction:\n",
        "          l.append(int(test['score']))\n",
        "  plt.hist(l, bins = 11)\n",
        "  plt.title(title)\n",
        "  plt.xlabel('score')\n",
        "  plt.ylabel('number of posts')\n",
        "  plt.show()"
      ],
      "metadata": {
        "id": "RnRVGJsVmyyV"
      },
      "execution_count": 5,
      "outputs": []
    },
    {
      "cell_type": "code",
      "source": [
        "'''\n",
        "utile se vogliamo visualizzare la distribuzione degli score per ogni istanza\n",
        "'''\n",
        "def plot_instance_hist(instance, instruction, title):\n",
        "  l = []\n",
        "  for rec in instance['records']:\n",
        "    for test in rec['tests']:\n",
        "      if test['instruction'] == instruction:\n",
        "        l.append(int(test['score']))\n",
        "  plt.hist(l, bins = 11)\n",
        "  plt.title(title)\n",
        "  plt.xlabel('score')\n",
        "  plt.ylabel('number of posts')\n",
        "  plt.show()"
      ],
      "metadata": {
        "id": "3UfDwbT7j9d-"
      },
      "execution_count": 6,
      "outputs": []
    },
    {
      "cell_type": "code",
      "source": [
        "def instance_std(instance, instruction):\n",
        "  l = []\n",
        "  for rec in instance['records']:\n",
        "    for test in rec['tests']:\n",
        "      if test['instruction'] == instruction:\n",
        "        l.append(int(test['score']))\n",
        "  return np.std(l)\n",
        "\n",
        "def mean_total_std(instruction):\n",
        "  stds = []\n",
        "  for instance_file in os.listdir(SCORES_HOME):\n",
        "    instance = json.load(open(os.path.join(SCORES_HOME, instance_file), 'r'))\n",
        "    stds.append(instance_std(instance, instruction))\n",
        "  return np.mean(stds)\n"
      ],
      "metadata": {
        "id": "dqP6PTZzxCNp"
      },
      "execution_count": 7,
      "outputs": []
    },
    {
      "cell_type": "code",
      "source": [
        "def get_instance_scores(instance):\n",
        "  lazy = []\n",
        "  strict = []\n",
        "  for rec in instance['records']:\n",
        "    test = rec['tests']\n",
        "    if test[0]['instruction'] == CONTEXT:\n",
        "      lazy.append(int(test[0]['score']))\n",
        "    else:\n",
        "      strict.append(int(test[0]['score']))\n",
        "    if test[1]['instruction'] == CONTEXT:\n",
        "      lazy.append(int(test[1]['score']))\n",
        "    else:\n",
        "      strict.append(int(test[1]['score']))\n",
        "  return lazy, strict\n",
        "\n",
        "def get_total_scores():\n",
        "  lazy_total = []\n",
        "  strict_total = []\n",
        "  for instance_name in os.listdir(SCORES_HOME):\n",
        "    instance = json.load(open(os.path.join(SCORES_HOME, instance_name),'r'))\n",
        "    lazy, strict = get_instance_scores(instance)\n",
        "    lazy_total = lazy_total + lazy\n",
        "    strict_total = strict_total + strict\n",
        "  return lazy_total, strict_total\n",
        "\n",
        "lazy_total, strict_total = get_total_scores()\n",
        "\n",
        "def pearson():\n",
        "    lazy, strict = get_total_scores()\n",
        "    lazy_mean = np.mean(lazy)\n",
        "    strict_mean = np.mean(strict)\n",
        "    numerator = np.sum((lazy - lazy_mean) * (strict - strict_mean))\n",
        "    std_lazy = np.std(lazy)\n",
        "    std_strict = np.std(strict)\n",
        "    denominator = std_lazy * std_strict * len(lazy)\n",
        "    return numerator / denominator\n"
      ],
      "metadata": {
        "id": "2s-3ZGl18Pyl"
      },
      "execution_count": 29,
      "outputs": []
    },
    {
      "cell_type": "code",
      "source": [
        "import requests\n",
        "def plot_scores_vs_users(instruction, title):\n",
        "  scores = []\n",
        "  users = []\n",
        "  for instance_name in os.listdir(SCORES_HOME):\n",
        "    instance = json.load(open(os.path.join(SCORES_HOME, instance_name),'r'))\n",
        "    scores.append(instance_mean_score(instance, instruction))\n",
        "    users_url = f'http://{instance_name[:-12]}/api/v2/instance'\n",
        "    users.append(requests.get(users_url).json()['usage']['users']['active_month'])\n",
        "  plt.scatter(users, scores)\n",
        "  plt.title(title)\n",
        "  plt.xlabel('number of users')\n",
        "  plt.ylabel('mean score')\n",
        "  plt.show()\n",
        ""
      ],
      "metadata": {
        "id": "CI3di4BnQe0Q"
      },
      "execution_count": 41,
      "outputs": []
    },
    {
      "cell_type": "markdown",
      "source": [
        "score medio calcolato su tutte le istanze per il lazy context"
      ],
      "metadata": {
        "id": "iifEmjJ8zXi7"
      }
    },
    {
      "cell_type": "code",
      "source": [
        "total_mean_score(CONTEXT)"
      ],
      "metadata": {
        "colab": {
          "base_uri": "https://localhost:8080/"
        },
        "id": "aiQ2nzsyfalH",
        "outputId": "92a978cc-d74a-4b44-eed9-1fdc1e492f7d"
      },
      "execution_count": 8,
      "outputs": [
        {
          "output_type": "execute_result",
          "data": {
            "text/plain": [
              "7.73125"
            ]
          },
          "metadata": {},
          "execution_count": 8
        }
      ]
    },
    {
      "cell_type": "markdown",
      "source": [
        "score medio calcolato su tutte le istanze per lo strict context"
      ],
      "metadata": {
        "id": "L1GRPqMqzmvZ"
      }
    },
    {
      "cell_type": "code",
      "source": [
        "total_mean_score(STRICT_CONTEXT)"
      ],
      "metadata": {
        "colab": {
          "base_uri": "https://localhost:8080/"
        },
        "id": "zP-leVKU040L",
        "outputId": "69aaf760-416d-4364-c510-1bacf65c0854"
      },
      "execution_count": 9,
      "outputs": [
        {
          "output_type": "execute_result",
          "data": {
            "text/plain": [
              "6.3475"
            ]
          },
          "metadata": {},
          "execution_count": 9
        }
      ]
    },
    {
      "cell_type": "markdown",
      "source": [
        "distribuzione degli score per il lazy context"
      ],
      "metadata": {
        "id": "jvsTvfe4091H"
      }
    },
    {
      "cell_type": "code",
      "source": [
        "plot_scores_distribution(CONTEXT, 'LAZY CONTEXT SCORES DISTRIBUTION')"
      ],
      "metadata": {
        "colab": {
          "base_uri": "https://localhost:8080/",
          "height": 472
        },
        "id": "qzafb6JVnosB",
        "outputId": "95b9d23d-f7c0-4d3d-b440-78fa4321b33c"
      },
      "execution_count": 10,
      "outputs": [
        {
          "output_type": "display_data",
          "data": {
            "text/plain": [
              "<Figure size 640x480 with 1 Axes>"
            ],
            "image/png": "[encoded data removed]"
          },
          "metadata": {}
        }
      ]
    },
    {
      "cell_type": "markdown",
      "source": [
        "distribuzione degli score per lo strict context"
      ],
      "metadata": {
        "id": "LnNxE9oH1MIb"
      }
    },
    {
      "cell_type": "code",
      "source": [
        "plot_scores_distribution(STRICT_CONTEXT, 'STRICT CONTEXT SCORES DISTRIBUTION')"
      ],
      "metadata": {
        "colab": {
          "base_uri": "https://localhost:8080/",
          "height": 472
        },
        "id": "tjPquldd1QcV",
        "outputId": "9b2f972e-381b-4bfd-b92c-fbcaf90b220e"
      },
      "execution_count": 11,
      "outputs": [
        {
          "output_type": "display_data",
          "data": {
            "text/plain": [
              "<Figure size 640x480 with 1 Axes>"
            ],
            "image/png": "[encoded data removed]"
          },
          "metadata": {}
        }
      ]
    },
    {
      "cell_type": "markdown",
      "source": [
        "deviazione standard media calcolata su tutte le istanze per il lazy context"
      ],
      "metadata": {
        "id": "4igWsH4w1oqM"
      }
    },
    {
      "cell_type": "code",
      "source": [
        "mean_total_std(CONTEXT)"
      ],
      "metadata": {
        "colab": {
          "base_uri": "https://localhost:8080/"
        },
        "id": "U6GkAS7z1n2S",
        "outputId": "75dd5fd0-8c5b-4170-9a14-51b052c91603"
      },
      "execution_count": 12,
      "outputs": [
        {
          "output_type": "execute_result",
          "data": {
            "text/plain": [
              "1.5223779787062537"
            ]
          },
          "metadata": {},
          "execution_count": 12
        }
      ]
    },
    {
      "cell_type": "markdown",
      "source": [
        "deviazione standard media calcolata su tutte le istanze per lo strict context"
      ],
      "metadata": {
        "id": "H718880G2DA-"
      }
    },
    {
      "cell_type": "code",
      "source": [
        "mean_total_std(STRICT_CONTEXT)"
      ],
      "metadata": {
        "colab": {
          "base_uri": "https://localhost:8080/"
        },
        "id": "7u0tX5uAy3es",
        "outputId": "8118e11d-a742-45b1-c47c-b18eb4ada2fb"
      },
      "execution_count": 13,
      "outputs": [
        {
          "output_type": "execute_result",
          "data": {
            "text/plain": [
              "2.3630529785484846"
            ]
          },
          "metadata": {},
          "execution_count": 13
        }
      ]
    },
    {
      "cell_type": "markdown",
      "source": [
        "numero di utenti vs score medio nel caso di lazy context"
      ],
      "metadata": {
        "id": "sWivmT5eZB-w"
      }
    },
    {
      "cell_type": "code",
      "source": [
        "plot_scores_vs_users(CONTEXT,'lazy context users vs mean score')"
      ],
      "metadata": {
        "colab": {
          "base_uri": "https://localhost:8080/",
          "height": 472
        },
        "id": "FAmG2SVky6OP",
        "outputId": "074bee19-2cb8-4af0-d8c1-f33b022edf0d"
      },
      "execution_count": 42,
      "outputs": [
        {
          "output_type": "display_data",
          "data": {
            "text/plain": [
              "<Figure size 640x480 with 1 Axes>"
            ],
            "image/png": "[encoded data removed]"
          },
          "metadata": {}
        }
      ]
    },
    {
      "cell_type": "markdown",
      "source": [
        "numero di utenti vs score medio nel caso di strict context"
      ],
      "metadata": {
        "id": "uVKjRUZjZOM1"
      }
    },
    {
      "cell_type": "code",
      "source": [
        "plot_scores_vs_users(STRICT_CONTEXT,'strict context users vs mean score')"
      ],
      "metadata": {
        "colab": {
          "base_uri": "https://localhost:8080/",
          "height": 472
        },
        "id": "8i-qQA4UZHy-",
        "outputId": "a3a0fa38-4e55-4f4e-eb31-868c6aa2c1c5"
      },
      "execution_count": 43,
      "outputs": [
        {
          "output_type": "display_data",
          "data": {
            "text/plain": [
              "<Figure size 640x480 with 1 Axes>"
            ],
            "image/png": "[encoded data removed]"
          },
          "metadata": {}
        }
      ]
    },
    {
      "cell_type": "code",
      "source": [],
      "metadata": {
        "id": "3CSbvyRCZOq3"
      },
      "execution_count": null,
      "outputs": []
    }
  ]
}